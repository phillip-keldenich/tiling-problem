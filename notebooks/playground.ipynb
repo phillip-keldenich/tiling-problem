{
 "cells": [
  {
   "cell_type": "code",
   "execution_count": 1,
   "id": "0521bf5e-8c8b-4f79-9c02-47e78ead9e77",
   "metadata": {},
   "outputs": [],
   "source": [
    "import tiling\n",
    "import matplotlib.pyplot as plt"
   ]
  },
  {
   "cell_type": "code",
   "execution_count": 2,
   "id": "5fb0bab0-6281-4d6a-b1a7-d44d5b77923f",
   "metadata": {},
   "outputs": [],
   "source": [
    "tile1 = tiling.TileType(\n",
    "    name=\"I\",\n",
    "    bottom_edges=[],\n",
    "    top_edges=[],\n",
    "    left_edges=[],\n",
    "    right_edges=[],\n",
    "    drawing=tiling.TileTypeDrawing(segments=[], vertices=[])\n",
    ")"
   ]
  },
  {
   "cell_type": "code",
   "execution_count": 3,
   "id": "3039c5ce-01c1-45c0-9eb8-29471dfb2966",
   "metadata": {},
   "outputs": [],
   "source": [
    "tile2 = tiling.TileType(\n",
    "    name=\"II\",\n",
    "    bottom_edges=[],\n",
    "    top_edges=[],\n",
    "    left_edges=[],\n",
    "    right_edges=[0.0],\n",
    "    drawing=tiling.TileTypeDrawing(\n",
    "        segments=[\n",
    "            tiling.TileTypeDrawSegment(local_start=(0.0,0.0), local_end=(1.0,0.0)),\n",
    "        ],\n",
    "        vertices=[\n",
    "            tiling.TileTypeDrawVertex(location=(0.0,0.0)),\n",
    "        ]\n",
    "    )\n",
    ")"
   ]
  },
  {
   "cell_type": "code",
   "execution_count": 4,
   "id": "e0d3b34f-f605-4deb-ae9d-8e5548155f4d",
   "metadata": {},
   "outputs": [],
   "source": [
    "tile3 = tiling.TileType(\n",
    "    name=\"III\",\n",
    "    bottom_edges=[],\n",
    "    top_edges=[],\n",
    "    left_edges=[0.0],\n",
    "    right_edges=[0.0],\n",
    "    drawing=tiling.TileTypeDrawing(segments=[\n",
    "        tiling.TileTypeDrawSegment(local_start=(-1.0,0.0), local_end=(1.0, 0.0))\n",
    "    ], vertices=[]),\n",
    ")"
   ]
  },
  {
   "cell_type": "code",
   "execution_count": 5,
   "id": "fa5610fd-f8a4-444d-add6-423fbcda814b",
   "metadata": {},
   "outputs": [],
   "source": [
    "tile4 = tiling.TileType(\n",
    "    name=\"IV\",\n",
    "    bottom_edges=[0.0],\n",
    "    top_edges = [],\n",
    "    left_edges = [0.0],\n",
    "    right_edges = [],\n",
    "    drawing=tiling.TileTypeDrawing(\n",
    "        segments=[\n",
    "            tiling.TileTypeDrawSegment(local_start=(-1.0, 0.0), local_end=(0.0, 0.0)),\n",
    "            tiling.TileTypeDrawSegment(local_start=(0.0, 0.0), local_end=(0.0, -1.0)),\n",
    "        ],\n",
    "        vertices=[]\n",
    "    )\n",
    ")"
   ]
  },
  {
   "cell_type": "code",
   "execution_count": 6,
   "id": "d4e1a152-aad1-480e-a7b8-dff6a881ed82",
   "metadata": {},
   "outputs": [],
   "source": [
    "tile5 = tiling.TileType(\n",
    "    name=\"V\",\n",
    "    bottom_edges=[0.0],\n",
    "    top_edges=[],\n",
    "    left_edges=[0.0],\n",
    "    right_edges=[0.0],\n",
    "    drawing=tiling.TileTypeDrawing(\n",
    "        segments=[\n",
    "            tiling.TileTypeDrawSegment(local_start=(-1.0, 0.0), local_end=(0.0, 0.0)),\n",
    "            tiling.TileTypeDrawSegment(local_start=(0.0, 0.0), local_end=(0.0, -1.0)),\n",
    "            tiling.TileTypeDrawSegment(local_start=(0.0, 0.0), local_end=(1.0, 0.0))\n",
    "        ],\n",
    "        vertices=[tiling.TileTypeDrawVertex(location=(0.0,0.0))]\n",
    "    )\n",
    ")"
   ]
  },
  {
   "cell_type": "code",
   "execution_count": 7,
   "id": "0fb65dd9-76c9-456a-a8f6-b566ca1b44c5",
   "metadata": {},
   "outputs": [],
   "source": [
    "tile6 = tiling.TileType(\n",
    "    name=\"VI\",\n",
    "    bottom_edges=[0.0],\n",
    "    top_edges=[0.0],\n",
    "    left_edges=[0.0],\n",
    "    right_edges=[0.0],\n",
    "    drawing=tiling.TileTypeDrawing(\n",
    "        segments=[\n",
    "            tiling.TileTypeDrawSegment(local_start=(-1.0, 0.0), local_end=(0.0, 0.0)),\n",
    "            tiling.TileTypeDrawSegment(local_start=(0.0, 0.0), local_end=(0.0, -1.0)),\n",
    "            tiling.TileTypeDrawSegment(local_start=(0.0, 0.0), local_end=(1.0, 0.0)),\n",
    "            tiling.TileTypeDrawSegment(local_start=(0.0, 0.0), local_end=(0.0, 1.0))\n",
    "        ],\n",
    "        vertices=[tiling.TileTypeDrawVertex(location=(0.0,0.0))]\n",
    "    )\n",
    ")"
   ]
  },
  {
   "cell_type": "markdown",
   "id": "3b491a15-4835-4143-9091-dd33d4da6044",
   "metadata": {},
   "source": [
    "# Visualize tiles and rotations"
   ]
  },
  {
   "cell_type": "code",
   "execution_count": 8,
   "id": "b0875144-ad38-4c9a-98d8-36ac51a0cf94",
   "metadata": {},
   "outputs": [],
   "source": [
    "def draw_tile(tile, **kw):\n",
    "    return tiling.draw_solution({(0,0): tile}, **kw)"
   ]
  },
  {
   "cell_type": "code",
   "execution_count": 9,
   "id": "db432c91-458e-4b7d-9bf2-e233fbd5e3cf",
   "metadata": {},
   "outputs": [
    {
     "name": "stdout",
     "output_type": "stream",
     "text": [
      "Ref =  bottom [] right [0.0] top [] left []\n",
      "Ref = x bottom [] right [] top [] left [0.0]\n",
      "Ref = y bottom [] right [-0.0] top [] left []\n",
      "Ref = xy bottom [] right [] top [] left [-0.0]\n"
     ]
    },
    {
     "data": {
      "image/png": "[encoded data removed]",
      "text/plain": [
       "<Figure size 640x480 with 4 Axes>"
      ]
     },
     "metadata": {},
     "output_type": "display_data"
    }
   ],
   "source": [
    "fig, ((a1, a2), (a3, a4)) = plt.subplots(nrows=2, ncols=2)\n",
    "axes = [a1, a2, a3, a4]\n",
    "reflections = ['', 'x', 'y', 'xy']\n",
    "for a in range(4):\n",
    "    ref = reflections[a]\n",
    "    if ref == '':\n",
    "        rot = tile2\n",
    "    elif ref in ('x', 'y'):\n",
    "        rot = tile2.reflect(ref)\n",
    "    else:\n",
    "        rot = tile2.reflect('x').reflect('y')\n",
    "    draw_tile(rot, axis=axes[a])\n",
    "    print(\"Ref =\", ref, \"bottom\", rot.bottom_edges, \"right\", rot.right_edges, \"top\", rot.top_edges, \"left\", rot.left_edges)"
   ]
  },
  {
   "cell_type": "code",
   "execution_count": 10,
   "id": "7639d240-75e4-439c-9337-9381cfa90880",
   "metadata": {},
   "outputs": [],
   "source": [
    "mixed_instance = tiling.TilingInstance(\n",
    "    instance_name=\"10x10 mixed\",\n",
    "    height=10,\n",
    "    width=10,\n",
    "    tile_types=[tile1, tile2, tile3, tile4, tile5, tile6],\n",
    "    tile_type_counts=[16, 17, 17, 17, 17, 16]\n",
    ")"
   ]
  },
  {
   "cell_type": "code",
   "execution_count": 11,
   "id": "dd996cf6-9131-4b4e-9207-c3fe364c9089",
   "metadata": {},
   "outputs": [],
   "source": [
    "solver = tiling.SimpleCPSATSolver(instance=mixed_instance)"
   ]
  },
  {
   "cell_type": "code",
   "execution_count": 12,
   "id": "5e05ebaa-f396-4fff-8781-3396c7470590",
   "metadata": {},
   "outputs": [],
   "source": [
    "solution = solver.solve()"
   ]
  },
  {
   "cell_type": "code",
   "execution_count": 13,
   "id": "b2c6e207-c573-49a4-92a3-a39be97cb5df",
   "metadata": {},
   "outputs": [
    {
     "data": {
      "text/plain": [
       "<Axes: >"
      ]
     },
     "execution_count": 13,
     "metadata": {},
     "output_type": "execute_result"
    },
    {
     "data": {
      "image/png": "[encoded data removed]",
      "text/plain": [
       "<Figure size 640x480 with 1 Axes>"
      ]
     },
     "metadata": {},
     "output_type": "display_data"
    }
   ],
   "source": [
    "tiling.draw_solution(solution)"
   ]
  },
  {
   "cell_type": "markdown",
   "id": "b9111438-4260-469a-8c53-812daea91e8c",
   "metadata": {},
   "source": [
    "# Checking some mix of I and V"
   ]
  },
  {
   "cell_type": "code",
   "execution_count": 9,
   "id": "e5d5a92b-7379-4d0a-8ccf-c73505b6c416",
   "metadata": {},
   "outputs": [],
   "source": [
    "def mix_i_and_v(n_v, k=15):\n",
    "    n = k * k\n",
    "    if n_v > n:\n",
    "        raise ValueError(\"n_v > n\")\n",
    "    n_i = n - n_v\n",
    "    return tiling.TilingInstance(\n",
    "        instance_name=f\"i_and_v_{k}x{k}_{n_v}\",\n",
    "        height=k,\n",
    "        width=k,\n",
    "        tile_types=[tile1, tile5],\n",
    "        tile_type_counts=[n_i, n_v],\n",
    "    )"
   ]
  },
  {
   "cell_type": "code",
   "execution_count": 17,
   "id": "e347e88d-4dc4-4996-8485-c99f7db992b1",
   "metadata": {},
   "outputs": [
    {
     "name": "stdout",
     "output_type": "stream",
     "text": [
      "n_v = 0 is possible\n",
      "n_v = 1 is impossible\n",
      "n_v = 2 is impossible\n",
      "n_v = 3 is impossible\n",
      "n_v = 4 is impossible\n",
      "n_v = 5 is impossible\n",
      "n_v = 6 is impossible\n",
      "n_v = 7 is impossible\n",
      "n_v = 8 is impossible\n",
      "n_v = 9 is impossible\n",
      "n_v = 10 is impossible\n",
      "n_v = 11 is impossible\n",
      "n_v = 12 is impossible\n",
      "n_v = 13 is impossible\n",
      "n_v = 14 is impossible\n",
      "n_v = 15 is possible\n",
      "n_v = 16 is impossible\n",
      "n_v = 17 is impossible\n",
      "n_v = 18 is impossible\n",
      "n_v = 19 is impossible\n",
      "n_v = 20 is impossible\n",
      "n_v = 21 is impossible\n",
      "n_v = 22 is impossible\n",
      "n_v = 23 is impossible\n",
      "n_v = 24 is impossible\n",
      "n_v = 25 is impossible\n",
      "n_v = 26 is impossible\n",
      "n_v = 27 is impossible\n",
      "n_v = 28 is impossible\n",
      "n_v = 29 is possible\n",
      "n_v = 30 is possible\n",
      "n_v = 31 is possible\n",
      "n_v = 32 is possible\n",
      "n_v = 33 is possible\n",
      "n_v = 34 is possible\n",
      "n_v = 35 is possible\n",
      "n_v = 36 is possible\n",
      "n_v = 37 is possible\n",
      "n_v = 38 is possible\n",
      "n_v = 39 is possible\n",
      "n_v = 40 is possible\n",
      "n_v = 41 is possible\n",
      "n_v = 42 is possible\n",
      "n_v = 43 is possible\n",
      "n_v = 44 is possible\n",
      "n_v = 45 is possible\n",
      "n_v = 46 is possible\n",
      "n_v = 47 is possible\n",
      "n_v = 48 is possible\n",
      "n_v = 49 is possible\n",
      "n_v = 50 is possible\n",
      "n_v = 51 is possible\n",
      "n_v = 52 is possible\n",
      "n_v = 53 is possible\n",
      "n_v = 54 is possible\n",
      "n_v = 55 is possible\n",
      "n_v = 56 is possible\n",
      "n_v = 57 is possible\n",
      "n_v = 58 is possible\n",
      "n_v = 59 is possible\n",
      "n_v = 60 is possible\n",
      "n_v = 61 is possible\n",
      "n_v = 62 is possible\n",
      "n_v = 63 is possible\n",
      "n_v = 64 is possible\n",
      "n_v = 65 is possible\n",
      "n_v = 66 is possible\n",
      "n_v = 67 is possible\n",
      "n_v = 68 is possible\n",
      "n_v = 69 is possible\n",
      "n_v = 70 is possible\n",
      "n_v = 71 is possible\n",
      "n_v = 72 is possible\n",
      "n_v = 73 is possible\n",
      "n_v = 74 is possible\n",
      "n_v = 75 is possible\n",
      "n_v = 76 is possible\n",
      "n_v = 77 is possible\n",
      "n_v = 78 is possible\n",
      "n_v = 79 is possible\n",
      "n_v = 80 is possible\n",
      "n_v = 81 is possible\n",
      "n_v = 82 is possible\n",
      "n_v = 83 is possible\n",
      "n_v = 84 is possible\n",
      "n_v = 85 is possible\n",
      "n_v = 86 is possible\n",
      "n_v = 87 is possible\n",
      "n_v = 88 is possible\n",
      "n_v = 89 is possible\n",
      "n_v = 90 is possible\n",
      "n_v = 91 is possible\n",
      "n_v = 92 is possible\n",
      "n_v = 93 is possible\n",
      "n_v = 94 is possible\n",
      "n_v = 95 is possible\n",
      "n_v = 96 is possible\n",
      "n_v = 97 is possible\n",
      "n_v = 98 is possible\n",
      "n_v = 99 is possible\n",
      "n_v = 100 is possible\n",
      "n_v = 101 is possible\n",
      "n_v = 102 is possible\n",
      "n_v = 103 is possible\n",
      "n_v = 104 is possible\n",
      "n_v = 105 is possible\n",
      "n_v = 106 is possible\n",
      "n_v = 107 is possible\n",
      "n_v = 108 is possible\n",
      "n_v = 109 is possible\n",
      "n_v = 110 is possible\n",
      "n_v = 111 is possible\n",
      "n_v = 112 is possible\n",
      "n_v = 113 is possible\n",
      "n_v = 114 is possible\n",
      "n_v = 115 is possible\n",
      "n_v = 116 is possible\n",
      "n_v = 117 is possible\n",
      "n_v = 118 is possible\n",
      "n_v = 119 is possible\n",
      "n_v = 120 is possible\n",
      "n_v = 121 is possible\n",
      "n_v = 122 is possible\n",
      "n_v = 123 is possible\n",
      "n_v = 124 is possible\n",
      "n_v = 125 is possible\n",
      "n_v = 126 is possible\n",
      "n_v = 127 is possible\n",
      "n_v = 128 is possible\n",
      "n_v = 129 is possible\n",
      "n_v = 130 is possible\n",
      "n_v = 131 is possible\n",
      "n_v = 132 is possible\n",
      "n_v = 133 is possible\n",
      "n_v = 134 is possible\n",
      "n_v = 135 is possible\n",
      "n_v = 136 is possible\n",
      "n_v = 137 is possible\n",
      "n_v = 138 is possible\n",
      "n_v = 139 is possible\n",
      "n_v = 140 is possible\n",
      "n_v = 141 is possible\n",
      "n_v = 142 is possible\n",
      "n_v = 143 is possible\n",
      "n_v = 144 is possible\n",
      "n_v = 145 is possible\n",
      "n_v = 146 is possible\n",
      "n_v = 147 is possible\n",
      "n_v = 148 is possible\n",
      "n_v = 149 is possible\n",
      "n_v = 150 is possible\n",
      "n_v = 151 is possible\n",
      "n_v = 152 is possible\n",
      "n_v = 153 is possible\n",
      "n_v = 154 is possible\n",
      "n_v = 155 is possible\n",
      "n_v = 156 is possible\n",
      "n_v = 157 is possible\n",
      "n_v = 158 is possible\n",
      "n_v = 159 is possible\n",
      "n_v = 160 is possible\n",
      "n_v = 161 is possible\n",
      "n_v = 162 is possible\n",
      "n_v = 163 is possible\n",
      "n_v = 164 is possible\n",
      "n_v = 165 is possible\n",
      "n_v = 166 is possible\n",
      "n_v = 167 is possible\n",
      "n_v = 168 is possible\n",
      "n_v = 169 is possible\n",
      "n_v = 170 is possible\n",
      "n_v = 171 is possible\n",
      "n_v = 172 is possible\n",
      "n_v = 173 is possible\n",
      "n_v = 174 is possible\n",
      "n_v = 175 is possible\n",
      "n_v = 176 is possible\n",
      "n_v = 177 is possible\n",
      "n_v = 178 is possible\n",
      "n_v = 179 is possible\n",
      "n_v = 180 is possible\n",
      "n_v = 181 is possible\n",
      "n_v = 182 is possible\n",
      "n_v = 183 is possible\n",
      "n_v = 184 is possible\n",
      "n_v = 185 is possible\n",
      "n_v = 186 is possible\n",
      "n_v = 187 is possible\n",
      "n_v = 188 is possible\n",
      "n_v = 189 is possible\n",
      "n_v = 190 is possible\n",
      "n_v = 191 is possible\n",
      "n_v = 192 is possible\n",
      "n_v = 193 is possible\n",
      "n_v = 194 is possible\n",
      "n_v = 195 is possible\n",
      "n_v = 196 is possible\n",
      "n_v = 197 is possible\n",
      "n_v = 198 is possible\n",
      "n_v = 199 is possible\n",
      "n_v = 200 is possible\n",
      "n_v = 201 is possible\n",
      "n_v = 202 is possible\n",
      "n_v = 203 is possible\n",
      "n_v = 204 is possible\n",
      "n_v = 205 is possible\n",
      "n_v = 206 is possible\n",
      "n_v = 207 is possible\n",
      "n_v = 208 is possible\n",
      "n_v = 209 is possible\n",
      "n_v = 210 is possible\n",
      "n_v = 211 is possible\n",
      "n_v = 212 is possible\n",
      "n_v = 213 is possible\n",
      "n_v = 214 is possible\n",
      "n_v = 215 is possible\n",
      "n_v = 216 is possible\n",
      "n_v = 217 is possible\n",
      "n_v = 218 is possible\n",
      "n_v = 219 is possible\n",
      "n_v = 220 is possible\n",
      "n_v = 221 is possible\n",
      "n_v = 222 is possible\n",
      "n_v = 223 is possible\n",
      "n_v = 224 is possible\n",
      "n_v = 225 is possible\n"
     ]
    },
    {
     "data": {
      "text/plain": [
       "<Figure size 640x480 with 0 Axes>"
      ]
     },
     "metadata": {},
     "output_type": "display_data"
    }
   ],
   "source": [
    "for n_v in range(226):\n",
    "    instance = mix_i_and_v(n_v)\n",
    "    solver = tiling.SimpleCPSATSolver(instance)\n",
    "    sol = solver.solve()\n",
    "    if sol is None:\n",
    "        print(f\"n_v = {n_v} is impossible\")\n",
    "    else:\n",
    "        print(f\"n_v = {n_v} is possible\")\n",
    "        tiling.draw_solution(sol)\n",
    "        plt.savefig(f\"i_and_v_15x15/sol_for_{n_v}.pdf\")\n",
    "        plt.clf()"
   ]
  },
  {
   "cell_type": "markdown",
   "id": "bd2d65c1-ff9d-4289-9cc6-86428f6e4e00",
   "metadata": {},
   "source": [
    "# Pairwise checking function for given decider"
   ]
  },
  {
   "cell_type": "code",
   "execution_count": 35,
   "id": "651b566b-8ac5-46bc-8c69-2b701ed435c7",
   "metadata": {},
   "outputs": [],
   "source": [
    "def mix_2(types, k, n_1):\n",
    "    n = k * k\n",
    "    if n_1 > n:\n",
    "        raise ValueError(\"n_1 too large\")\n",
    "    n_2 = n - n_1\n",
    "    return tiling.TilingInstance(\n",
    "        instance_name =f\"mix_{types[0].name}_{types[1].name}_{k}x{k}_{n_1}\",\n",
    "        height=k,\n",
    "        width=k,\n",
    "        tile_types=types,\n",
    "        tile_type_counts=[n_1, n_2]\n",
    "    )\n",
    "\n",
    "def check_2(tiles, check_k, decider):\n",
    "    check_n = check_k * check_k\n",
    "    for n_1 in range(check_n + 1):\n",
    "        instance = mix_2(tiles, check_k, n_1)\n",
    "        expected = decider(instance, n_1)\n",
    "        solver = tiling.SimpleCPSATSolver(instance)\n",
    "        sol = solver.solve()\n",
    "        if sol is None and expected:\n",
    "            print(f\"Expected n_1 = {n_1} possible but it is not!\")\n",
    "            break\n",
    "        elif sol is not None and not expected:\n",
    "            print(f\"Expected n_1 = {n_1} impossible but it is possible!\")\n",
    "            tiling.draw_solution(sol)\n",
    "            return False\n",
    "    return True"
   ]
  },
  {
   "cell_type": "markdown",
   "id": "c6fa8c4e-d6a9-459b-9393-52e163abd83c",
   "metadata": {},
   "source": [
    "# Checking I and II"
   ]
  },
  {
   "cell_type": "code",
   "execution_count": 48,
   "id": "5d4e19b4-96ae-4338-9008-5adfba58ba80",
   "metadata": {},
   "outputs": [
    {
     "data": {
      "text/plain": [
       "True"
      ]
     },
     "execution_count": 48,
     "metadata": {},
     "output_type": "execute_result"
    }
   ],
   "source": [
    "def always_true(instance, *args):\n",
    "    return True\n",
    "check_2([tile1, tile2], 10, always_true)"
   ]
  },
  {
   "cell_type": "markdown",
   "id": "ee738bd4-43b9-4439-952b-4aafb10846aa",
   "metadata": {},
   "source": [
    "# Checking I and III\n",
    "It seems that our decision function here is correct (and fairly trivial)."
   ]
  },
  {
   "cell_type": "code",
   "execution_count": 36,
   "id": "255cfc2b-68db-47c9-97dc-7178d51117a9",
   "metadata": {},
   "outputs": [],
   "source": [
    "def decide_i_and_iii(instance, n_i):\n",
    "    if (n_i % instance.width == 0) or (n_i % instance.height == 0):\n",
    "        return True\n",
    "    return False"
   ]
  },
  {
   "cell_type": "code",
   "execution_count": 37,
   "id": "f3e1c72d-ecae-4183-a8a2-cdb0946adb2b",
   "metadata": {},
   "outputs": [
    {
     "data": {
      "text/plain": [
       "True"
      ]
     },
     "execution_count": 37,
     "metadata": {},
     "output_type": "execute_result"
    }
   ],
   "source": [
    "check_2([tile1, tile3], 10, decide_i_and_iii)"
   ]
  },
  {
   "cell_type": "markdown",
   "id": "9625b6a6-9306-4c10-8bc1-ecd48db148c1",
   "metadata": {},
   "source": [
    "# Checking I and IV"
   ]
  },
  {
   "cell_type": "code",
   "execution_count": 39,
   "id": "8dad0dc7-fbd4-4572-b6b2-19b8992e8cc1",
   "metadata": {},
   "outputs": [
    {
     "data": {
      "text/plain": [
       "True"
      ]
     },
     "execution_count": 39,
     "metadata": {},
     "output_type": "execute_result"
    }
   ],
   "source": [
    "def decide_i_and_iv(instance, n_i):\n",
    "    return True\n",
    "check_2([tile1, tile4], 10, decide_i_and_iv)"
   ]
  },
  {
   "cell_type": "markdown",
   "id": "d165588a-5fe2-4773-a777-560623d2e497",
   "metadata": {},
   "source": [
    "# Checking I and V\n",
    "This decision function needs a proof, and possibly some fine tuning for low $n$."
   ]
  },
  {
   "cell_type": "code",
   "execution_count": 40,
   "id": "5247080a-5a25-49a0-948a-e1dcf3b9993d",
   "metadata": {},
   "outputs": [],
   "source": [
    "def decide_i_and_v(instance, n_i):\n",
    "    if instance.width != instance.height:\n",
    "        raise ValueError(\"Non-square rectangles not supported\")\n",
    "    n = instance.width * instance.height\n",
    "    k = instance.width\n",
    "    if n_i > n:\n",
    "        return False\n",
    "    n_v = n - n_i\n",
    "    if n_v % k == 0 or n_v > 2 * k - 2:\n",
    "        return True\n",
    "    return False"
   ]
  },
  {
   "cell_type": "code",
   "execution_count": 41,
   "id": "8dd6f22b-9e2d-49f9-b75f-fd91563e095a",
   "metadata": {},
   "outputs": [
    {
     "data": {
      "text/plain": [
       "True"
      ]
     },
     "execution_count": 41,
     "metadata": {},
     "output_type": "execute_result"
    }
   ],
   "source": [
    "check_2([tile1, tile5], 10, decide_i_and_v)"
   ]
  },
  {
   "cell_type": "markdown",
   "id": "3af81dde-d310-4f56-bd4c-95b2880afe10",
   "metadata": {},
   "source": [
    "# Checking I and VI"
   ]
  },
  {
   "cell_type": "code",
   "execution_count": 42,
   "id": "fdfb4830-e5b2-4626-830b-7b4f0be39656",
   "metadata": {},
   "outputs": [
    {
     "data": {
      "text/plain": [
       "True"
      ]
     },
     "execution_count": 42,
     "metadata": {},
     "output_type": "execute_result"
    }
   ],
   "source": [
    "def decide_i_and_vi(instance, n_i):\n",
    "    n = instance.width * instance.height\n",
    "    return n_i == 0 or n_i == n\n",
    "check_2([tile1, tile6], 10, decide_i_and_vi)"
   ]
  },
  {
   "cell_type": "markdown",
   "id": "054ab898-cfde-4305-a7a2-02d4d96c5190",
   "metadata": {},
   "source": [
    "# Checking II and III, II and IV, II and V"
   ]
  },
  {
   "cell_type": "code",
   "execution_count": 44,
   "id": "70da792f-5bde-4418-9cfb-02b5183b460f",
   "metadata": {},
   "outputs": [
    {
     "data": {
      "text/plain": [
       "(True, True, True)"
      ]
     },
     "execution_count": 44,
     "metadata": {},
     "output_type": "execute_result"
    }
   ],
   "source": [
    "check_2([tile2, tile3], 10, always_true),\\\n",
    "check_2([tile2, tile4], 10, always_true),\\\n",
    "check_2([tile2, tile5], 10, always_true)"
   ]
  },
  {
   "cell_type": "markdown",
   "id": "8da48b45-88bd-4b18-8e99-110687a435f3",
   "metadata": {},
   "source": [
    "# Checking III and IV"
   ]
  },
  {
   "cell_type": "code",
   "execution_count": 45,
   "id": "8f1035a0-4ae1-4ae0-9661-46bf3f87a012",
   "metadata": {},
   "outputs": [
    {
     "data": {
      "text/plain": [
       "True"
      ]
     },
     "execution_count": 45,
     "metadata": {},
     "output_type": "execute_result"
    }
   ],
   "source": [
    "check_2([tile3, tile4], 10, always_true)"
   ]
  },
  {
   "cell_type": "markdown",
   "id": "3ec2cf57-8afa-4357-998e-26f8fe40ab1c",
   "metadata": {},
   "source": [
    "# Checking some mix of I, II, III"
   ]
  },
  {
   "cell_type": "code",
   "execution_count": 46,
   "id": "6b88a740-057f-41ee-8a5e-4db2f5fbab3e",
   "metadata": {},
   "outputs": [],
   "source": [
    "def mix_3(types, k, n_1, n_2):\n",
    "    n = k * k\n",
    "    if n_1 + n_2 > n:\n",
    "        raise ValueError(\"n_1 + n_2 too large\")\n",
    "    n_3 = n - n_1 - n_2\n",
    "    return tiling.TilingInstance(\n",
    "        instance_name=f\"mix_{types[0].name}_{types[1].name}_{types[2].name}_{k}x{k}_{n_1}_{n_2}\",\n",
    "        height=k,\n",
    "        width=k,\n",
    "        tile_types=types,\n",
    "        tile_type_counts=[n_1, n_2, n_3]\n",
    "    )\n",
    "\n",
    "def check_3(types, k, decider):\n",
    "    n = k * k\n",
    "    for n_1 in range(1, n-1):\n",
    "        for n_2 in range(1, n - n_1):\n",
    "            instance = mix_3(types, k, n_1, n_2)\n",
    "            expected = decider(instance, n_1, n_2)\n",
    "            solver = tiling.SimpleCPSATSolver(instance)\n",
    "            sol = solver.solve()\n",
    "            if sol is None and expected:\n",
    "                print(f\"n_1 = {n_1}, n_2 = {n_2} does not work (but was expected to)\")\n",
    "                return False\n",
    "            if sol is not None and not expected:\n",
    "                print(f\"n_1 = {n_1}, n_2 = {n_2} does work (but was not expected to)\")\n",
    "                tiling.draw_solution(sol)\n",
    "                return False\n",
    "    return True"
   ]
  },
  {
   "cell_type": "code",
   "execution_count": null,
   "id": "6c3d5332-2479-4dde-af01-a5c1d816dc0a",
   "metadata": {},
   "outputs": [],
   "source": []
  },
  {
   "cell_type": "code",
   "execution_count": 49,
   "id": "2ee3ed7c-468e-4933-a678-87363459e9a5",
   "metadata": {},
   "outputs": [
    {
     "name": "stdout",
     "output_type": "stream",
     "text": [
      "Check I, II, III: \n"
     ]
    },
    {
     "ename": "RuntimeError",
     "evalue": "Solver failed with status: 0",
     "output_type": "error",
     "traceback": [
      "\u001b[31m---------------------------------------------------------------------------\u001b[39m",
      "\u001b[31mRuntimeError\u001b[39m                              Traceback (most recent call last)",
      "\u001b[36mCell\u001b[39m\u001b[36m \u001b[39m\u001b[32mIn[49]\u001b[39m\u001b[32m, line 2\u001b[39m\n\u001b[32m      1\u001b[39m \u001b[38;5;28mprint\u001b[39m(\u001b[33m\"\u001b[39m\u001b[33mCheck I, II, III: \u001b[39m\u001b[33m\"\u001b[39m)\n\u001b[32m----> \u001b[39m\u001b[32m2\u001b[39m \u001b[38;5;28mprint\u001b[39m(check_3([tile1, tile2, tile3], \u001b[32m11\u001b[39m, always_true))\n",
      "\u001b[36mCell\u001b[39m\u001b[36m \u001b[39m\u001b[32mIn[46]\u001b[39m\u001b[32m, line 21\u001b[39m, in \u001b[36mcheck_3\u001b[39m\u001b[34m(types, k, decider)\u001b[39m\n\u001b[32m     19\u001b[39m expected = decider(instance, n_1, n_2)\n\u001b[32m     20\u001b[39m solver = tiling.SimpleCPSATSolver(instance)\n\u001b[32m---> \u001b[39m\u001b[32m21\u001b[39m sol = solver.solve()\n\u001b[32m     22\u001b[39m \u001b[38;5;28;01mif\u001b[39;00m sol \u001b[38;5;129;01mis\u001b[39;00m \u001b[38;5;28;01mNone\u001b[39;00m \u001b[38;5;129;01mand\u001b[39;00m expected:\n\u001b[32m     23\u001b[39m     \u001b[38;5;28mprint\u001b[39m(\u001b[33mf\u001b[39m\u001b[33m\"\u001b[39m\u001b[33mn_1 = \u001b[39m\u001b[38;5;132;01m{\u001b[39;00mn_1\u001b[38;5;132;01m}\u001b[39;00m\u001b[33m, n_2 = \u001b[39m\u001b[38;5;132;01m{\u001b[39;00mn_2\u001b[38;5;132;01m}\u001b[39;00m\u001b[33m does not work (but was expected to)\u001b[39m\u001b[33m\"\u001b[39m)\n",
      "\u001b[36mFile \u001b[39m\u001b[32m~/tiling/src/tiling/simple_cpsat_solver.py:145\u001b[39m, in \u001b[36mSimpleCPSATSolver.solve\u001b[39m\u001b[34m(self)\u001b[39m\n\u001b[32m    143\u001b[39m \u001b[38;5;28;01mif\u001b[39;00m status == cp_model.INFEASIBLE:\n\u001b[32m    144\u001b[39m     \u001b[38;5;28;01mreturn\u001b[39;00m \u001b[38;5;28;01mNone\u001b[39;00m\n\u001b[32m--> \u001b[39m\u001b[32m145\u001b[39m \u001b[38;5;28;01mraise\u001b[39;00m \u001b[38;5;167;01mRuntimeError\u001b[39;00m(\u001b[33mf\u001b[39m\u001b[33m\"\u001b[39m\u001b[33mSolver failed with status: \u001b[39m\u001b[38;5;132;01m{\u001b[39;00mstatus\u001b[38;5;132;01m}\u001b[39;00m\u001b[33m\"\u001b[39m)\n",
      "\u001b[31mRuntimeError\u001b[39m: Solver failed with status: 0"
     ]
    }
   ],
   "source": [
    "print(\"Check I, II, III: \")\n",
    "print(check_3([tile1, tile2, tile3], 11, always_true))"
   ]
  },
  {
   "cell_type": "code",
   "execution_count": null,
   "id": "d6e9c968-46d4-4cfe-9bab-953b86aa1dcd",
   "metadata": {},
   "outputs": [],
   "source": [
    "print(\"Check I, II, IV: \")\n",
    "print(check_3([tile1, tile2, tile4], 11, always_true))"
   ]
  },
  {
   "cell_type": "code",
   "execution_count": null,
   "id": "8ce1eda5-f5a4-4651-8288-b8b8fa45eaa2",
   "metadata": {},
   "outputs": [],
   "source": [
    "print(\"Check I, II, V: \")\n",
    "print(check_3([tile1, tile2, tile5], 11, always_true))"
   ]
  },
  {
   "cell_type": "markdown",
   "id": "ca1fefb2-57ed-4ba8-baaa-1537623a30be",
   "metadata": {},
   "source": [
    "# Checking I, II, VI"
   ]
  },
  {
   "cell_type": "code",
   "execution_count": null,
   "id": "a33e40d8-600b-42f5-b32e-8985f1214de8",
   "metadata": {},
   "outputs": [
    {
     "name": "stdout",
     "output_type": "stream",
     "text": [
      "n_1 = 1 done\n",
      "n_1 = 2 done\n",
      "n_1 = 3 done\n",
      "n_1 = 4 done\n",
      "n_1 = 5 done\n",
      "n_1 = 6 done\n",
      "n_1 = 7 done\n",
      "n_1 = 8 done\n",
      "n_1 = 9 done\n",
      "n_1 = 10 done\n",
      "n_1 = 11 done\n",
      "n_1 = 12 done\n",
      "n_1 = 13 done\n",
      "n_1 = 14 done\n",
      "n_1 = 15 done\n",
      "n_1 = 16 done\n",
      "n_1 = 17 done\n",
      "n_1 = 18 done\n",
      "n_1 = 19 done\n",
      "n_1 = 20 done\n",
      "n_1 = 21 done\n",
      "n_1 = 22 done\n",
      "n_1 = 23 done\n",
      "n_1 = 24 done\n",
      "n_1 = 25 done\n",
      "n_1 = 26 done\n",
      "n_1 = 27 done\n",
      "n_1 = 28 done\n",
      "n_1 = 29 done\n",
      "n_1 = 30 done\n",
      "n_1 = 31 done\n",
      "n_1 = 32 done\n",
      "n_1 = 33 done\n",
      "n_1 = 34 done\n",
      "n_1 = 35 done\n",
      "n_1 = 36 done\n",
      "n_1 = 37 done\n",
      "n_1 = 38 done\n",
      "n_1 = 39 done\n",
      "n_1 = 40 done\n",
      "n_1 = 41 done\n",
      "n_1 = 42 done\n",
      "n_1 = 43 done\n",
      "n_1 = 44 done\n",
      "n_1 = 45 done\n",
      "n_1 = 46 done\n",
      "n_1 = 47 done\n",
      "n_1 = 48 done\n",
      "n_1 = 49 done\n"
     ]
    }
   ],
   "source": [
    "k = 11\n",
    "n = k * k\n",
    "table = {}\n",
    "for n_1 in range(1, n-1):\n",
    "    for n_2 in range(1, n - n_1):\n",
    "        instance = mix_3([tile1, tile2, tile6], k, n_1, n_2)\n",
    "        n_6 = n - n_1 - n_2\n",
    "        solver = tiling.SimpleCPSATSolver(instance)\n",
    "        sol = solver.solve()\n",
    "        if sol is not None:\n",
    "            table[n_1, n_2, n_6] = True\n",
    "        else:\n",
    "            table[n_1, n_2, n_6] = False\n",
    "    print(f\"n_1 = {n_1} done\")"
   ]
  },
  {
   "cell_type": "code",
   "execution_count": null,
   "id": "4cdbefac-28fa-4df5-b49b-665b80409e58",
   "metadata": {},
   "outputs": [],
   "source": []
  }
 ],
 "metadata": {
  "kernelspec": {
   "display_name": "Python 3 (ipykernel)",
   "language": "python",
   "name": "python3"
  },
  "language_info": {
   "codemirror_mode": {
    "name": "ipython",
    "version": 3
   },
   "file_extension": ".py",
   "mimetype": "text/x-python",
   "name": "python",
   "nbconvert_exporter": "python",
   "pygments_lexer": "ipython3",
   "version": "3.13.2"
  }
 },
 "nbformat": 4,
 "nbformat_minor": 5
}
